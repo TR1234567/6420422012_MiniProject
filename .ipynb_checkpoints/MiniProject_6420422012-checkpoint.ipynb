{
 "cells": [
  {
   "cell_type": "markdown",
   "metadata": {},
   "source": [
    "# Mini_Project_Austin_Dataset"
   ]
  },
  {
   "cell_type": "code",
   "execution_count": 1,
   "metadata": {},
   "outputs": [],
   "source": [
    "import pandas as pd\n",
    "import matplotlib.pyplot as plt\n",
    "import re"
   ]
  },
  {
   "cell_type": "code",
   "execution_count": 2,
   "metadata": {},
   "outputs": [],
   "source": [
    "df = pd.read_csv('austin_crime.csv')"
   ]
  },
  {
   "cell_type": "code",
   "execution_count": 3,
   "metadata": {
    "scrolled": false
   },
   "outputs": [
    {
     "data": {
      "text/html": [
       "<div>\n",
       "<style scoped>\n",
       "    .dataframe tbody tr th:only-of-type {\n",
       "        vertical-align: middle;\n",
       "    }\n",
       "\n",
       "    .dataframe tbody tr th {\n",
       "        vertical-align: top;\n",
       "    }\n",
       "\n",
       "    .dataframe thead th {\n",
       "        text-align: right;\n",
       "    }\n",
       "</style>\n",
       "<table border=\"1\" class=\"dataframe\">\n",
       "  <thead>\n",
       "    <tr style=\"text-align: right;\">\n",
       "      <th></th>\n",
       "      <th>address</th>\n",
       "      <th>census_tract</th>\n",
       "      <th>clearance_date</th>\n",
       "      <th>clearance_status</th>\n",
       "      <th>council_district_code</th>\n",
       "      <th>description</th>\n",
       "      <th>district</th>\n",
       "      <th>latitude</th>\n",
       "      <th>location</th>\n",
       "      <th>location_description</th>\n",
       "      <th>longitude</th>\n",
       "      <th>primary_type</th>\n",
       "      <th>timestamp</th>\n",
       "      <th>unique_key</th>\n",
       "      <th>x_coordinate</th>\n",
       "      <th>y_coordinate</th>\n",
       "      <th>year</th>\n",
       "      <th>zipcode</th>\n",
       "    </tr>\n",
       "  </thead>\n",
       "  <tbody>\n",
       "    <tr>\n",
       "      <th>0</th>\n",
       "      <td>2620 RIO GRANDE ST Austin TX 78705</td>\n",
       "      <td>6.03</td>\n",
       "      <td>2015-12-14 00:00:00</td>\n",
       "      <td>Not cleared</td>\n",
       "      <td>9.0</td>\n",
       "      <td>THEFT</td>\n",
       "      <td>B</td>\n",
       "      <td>NaN</td>\n",
       "      <td>NaN</td>\n",
       "      <td>2620 RIO GRANDE ST</td>\n",
       "      <td>NaN</td>\n",
       "      <td>Theft</td>\n",
       "      <td>2015-12-13 00:00:00</td>\n",
       "      <td>2.015505e+10</td>\n",
       "      <td>3113531.0</td>\n",
       "      <td>10079579.0</td>\n",
       "      <td>2015.0</td>\n",
       "      <td>78705.0</td>\n",
       "    </tr>\n",
       "    <tr>\n",
       "      <th>1</th>\n",
       "      <td>9500 S IH 35 SVRD SB Austin TX 78748</td>\n",
       "      <td>24.21</td>\n",
       "      <td>2015-09-14 00:00:00</td>\n",
       "      <td>Cleared by Arrest</td>\n",
       "      <td>5.0</td>\n",
       "      <td>THEFT BY SHOPLIFTING</td>\n",
       "      <td>F</td>\n",
       "      <td>NaN</td>\n",
       "      <td>NaN</td>\n",
       "      <td>9500 S IH 35 SVRD SB</td>\n",
       "      <td>NaN</td>\n",
       "      <td>Theft</td>\n",
       "      <td>2015-09-03 00:00:00</td>\n",
       "      <td>2.015246e+10</td>\n",
       "      <td>3099459.0</td>\n",
       "      <td>10032098.0</td>\n",
       "      <td>2015.0</td>\n",
       "      <td>78748.0</td>\n",
       "    </tr>\n",
       "    <tr>\n",
       "      <th>2</th>\n",
       "      <td>1000 E 41ST ST</td>\n",
       "      <td>NaN</td>\n",
       "      <td>NaN</td>\n",
       "      <td>NaN</td>\n",
       "      <td>NaN</td>\n",
       "      <td>NaN</td>\n",
       "      <td>NaN</td>\n",
       "      <td>NaN</td>\n",
       "      <td>NaN</td>\n",
       "      <td>NaN</td>\n",
       "      <td>NaN</td>\n",
       "      <td>NaN</td>\n",
       "      <td>NaN</td>\n",
       "      <td>NaN</td>\n",
       "      <td>NaN</td>\n",
       "      <td>NaN</td>\n",
       "      <td>NaN</td>\n",
       "      <td>NaN</td>\n",
       "    </tr>\n",
       "    <tr>\n",
       "      <th>3</th>\n",
       "      <td>Austin TX 78751</td>\n",
       "      <td>NaN</td>\n",
       "      <td>NaN</td>\n",
       "      <td>NaN</td>\n",
       "      <td>NaN</td>\n",
       "      <td>NaN</td>\n",
       "      <td>NaN</td>\n",
       "      <td>NaN</td>\n",
       "      <td>NaN</td>\n",
       "      <td>NaN</td>\n",
       "      <td>NaN</td>\n",
       "      <td>NaN</td>\n",
       "      <td>NaN</td>\n",
       "      <td>NaN</td>\n",
       "      <td>NaN</td>\n",
       "      <td>NaN</td>\n",
       "      <td>NaN</td>\n",
       "      <td>NaN</td>\n",
       "    </tr>\n",
       "    <tr>\n",
       "      <th>4</th>\n",
       "      <td>(30.298356 -97.719647)</td>\n",
       "      <td>3.02</td>\n",
       "      <td>2014-07-29 00:00:00</td>\n",
       "      <td>Cleared by Arrest</td>\n",
       "      <td>9.0</td>\n",
       "      <td>THEFT BY SHOPLIFTING</td>\n",
       "      <td>B</td>\n",
       "      <td>30.298356</td>\n",
       "      <td>(30.298356-97.719647)</td>\n",
       "      <td>1000 E 41ST ST</td>\n",
       "      <td>-97.719647</td>\n",
       "      <td>Theft: Shoplifting</td>\n",
       "      <td>2014-04-04 00:00:00</td>\n",
       "      <td>2.014941e+09</td>\n",
       "      <td>3121345.0</td>\n",
       "      <td>10082705.0</td>\n",
       "      <td>2014.0</td>\n",
       "      <td>78751.0</td>\n",
       "    </tr>\n",
       "    <tr>\n",
       "      <th>...</th>\n",
       "      <td>...</td>\n",
       "      <td>...</td>\n",
       "      <td>...</td>\n",
       "      <td>...</td>\n",
       "      <td>...</td>\n",
       "      <td>...</td>\n",
       "      <td>...</td>\n",
       "      <td>...</td>\n",
       "      <td>...</td>\n",
       "      <td>...</td>\n",
       "      <td>...</td>\n",
       "      <td>...</td>\n",
       "      <td>...</td>\n",
       "      <td>...</td>\n",
       "      <td>...</td>\n",
       "      <td>...</td>\n",
       "      <td>...</td>\n",
       "      <td>...</td>\n",
       "    </tr>\n",
       "    <tr>\n",
       "      <th>159459</th>\n",
       "      <td>(30.207396 -97.728709)</td>\n",
       "      <td>24.31</td>\n",
       "      <td>2014-06-04 00:00:00</td>\n",
       "      <td>Not cleared</td>\n",
       "      <td>2.0</td>\n",
       "      <td>THEFT OF METAL</td>\n",
       "      <td>F</td>\n",
       "      <td>30.207396</td>\n",
       "      <td>(30.207396-97.728709)</td>\n",
       "      <td>4000 CAVEN RD</td>\n",
       "      <td>-97.728709</td>\n",
       "      <td>Theft: All Other Larceny</td>\n",
       "      <td>2014-06-03 00:00:00</td>\n",
       "      <td>2.014502e+10</td>\n",
       "      <td>3119195.0</td>\n",
       "      <td>10048844.0</td>\n",
       "      <td>2014.0</td>\n",
       "      <td>78744.0</td>\n",
       "    </tr>\n",
       "    <tr>\n",
       "      <th>159460</th>\n",
       "      <td>10713 JOLLYVILLE RD Austin TX 78759</td>\n",
       "      <td>17.22</td>\n",
       "      <td>2016-01-12 00:00:00</td>\n",
       "      <td>Not cleared</td>\n",
       "      <td>10.0</td>\n",
       "      <td>THEFT BY SHOPLIFTING</td>\n",
       "      <td>A</td>\n",
       "      <td>NaN</td>\n",
       "      <td>NaN</td>\n",
       "      <td>10713 JOLLYVILLE RD</td>\n",
       "      <td>NaN</td>\n",
       "      <td>Theft</td>\n",
       "      <td>2015-12-30 00:00:00</td>\n",
       "      <td>2.015506e+10</td>\n",
       "      <td>3111397.0</td>\n",
       "      <td>10118845.0</td>\n",
       "      <td>2015.0</td>\n",
       "      <td>78759.0</td>\n",
       "    </tr>\n",
       "    <tr>\n",
       "      <th>159461</th>\n",
       "      <td>1712 TIMBER RIDGE DR</td>\n",
       "      <td>NaN</td>\n",
       "      <td>NaN</td>\n",
       "      <td>NaN</td>\n",
       "      <td>NaN</td>\n",
       "      <td>NaN</td>\n",
       "      <td>NaN</td>\n",
       "      <td>NaN</td>\n",
       "      <td>NaN</td>\n",
       "      <td>NaN</td>\n",
       "      <td>NaN</td>\n",
       "      <td>NaN</td>\n",
       "      <td>NaN</td>\n",
       "      <td>NaN</td>\n",
       "      <td>NaN</td>\n",
       "      <td>NaN</td>\n",
       "      <td>NaN</td>\n",
       "      <td>NaN</td>\n",
       "    </tr>\n",
       "    <tr>\n",
       "      <th>159462</th>\n",
       "      <td>Austin TX 78741</td>\n",
       "      <td>NaN</td>\n",
       "      <td>NaN</td>\n",
       "      <td>NaN</td>\n",
       "      <td>NaN</td>\n",
       "      <td>NaN</td>\n",
       "      <td>NaN</td>\n",
       "      <td>NaN</td>\n",
       "      <td>NaN</td>\n",
       "      <td>NaN</td>\n",
       "      <td>NaN</td>\n",
       "      <td>NaN</td>\n",
       "      <td>NaN</td>\n",
       "      <td>NaN</td>\n",
       "      <td>NaN</td>\n",
       "      <td>NaN</td>\n",
       "      <td>NaN</td>\n",
       "      <td>NaN</td>\n",
       "    </tr>\n",
       "    <tr>\n",
       "      <th>159463</th>\n",
       "      <td>(30.226552 -97.741977)</td>\n",
       "      <td>23.07</td>\n",
       "      <td>2014-07-30 00:00:00</td>\n",
       "      <td>Not cleared</td>\n",
       "      <td>3.0</td>\n",
       "      <td>THEFT</td>\n",
       "      <td>H</td>\n",
       "      <td>30.226552</td>\n",
       "      <td>(30.226552-97.741977)</td>\n",
       "      <td>1712 TIMBER RIDGE DR</td>\n",
       "      <td>-97.741977</td>\n",
       "      <td>Theft: All Other Larceny</td>\n",
       "      <td>2014-06-30 00:00:00</td>\n",
       "      <td>2.014503e+10</td>\n",
       "      <td>3114890.0</td>\n",
       "      <td>10055706.0</td>\n",
       "      <td>2014.0</td>\n",
       "      <td>78741.0</td>\n",
       "    </tr>\n",
       "  </tbody>\n",
       "</table>\n",
       "<p>159464 rows × 18 columns</p>\n",
       "</div>"
      ],
      "text/plain": [
       "                                     address census_tract  \\\n",
       "0         2620 RIO GRANDE ST Austin TX 78705         6.03   \n",
       "1       9500 S IH 35 SVRD SB Austin TX 78748        24.21   \n",
       "2                             1000 E 41ST ST          NaN   \n",
       "3                            Austin TX 78751          NaN   \n",
       "4                     (30.298356 -97.719647)         3.02   \n",
       "...                                      ...          ...   \n",
       "159459                (30.207396 -97.728709)        24.31   \n",
       "159460   10713 JOLLYVILLE RD Austin TX 78759        17.22   \n",
       "159461                  1712 TIMBER RIDGE DR          NaN   \n",
       "159462                       Austin TX 78741          NaN   \n",
       "159463                (30.226552 -97.741977)        23.07   \n",
       "\n",
       "             clearance_date   clearance_status  council_district_code  \\\n",
       "0       2015-12-14 00:00:00        Not cleared                    9.0   \n",
       "1       2015-09-14 00:00:00  Cleared by Arrest                    5.0   \n",
       "2                       NaN                NaN                    NaN   \n",
       "3                       NaN                NaN                    NaN   \n",
       "4       2014-07-29 00:00:00  Cleared by Arrest                    9.0   \n",
       "...                     ...                ...                    ...   \n",
       "159459  2014-06-04 00:00:00        Not cleared                    2.0   \n",
       "159460  2016-01-12 00:00:00        Not cleared                   10.0   \n",
       "159461                  NaN                NaN                    NaN   \n",
       "159462                  NaN                NaN                    NaN   \n",
       "159463  2014-07-30 00:00:00        Not cleared                    3.0   \n",
       "\n",
       "                 description district   latitude               location  \\\n",
       "0                      THEFT        B        NaN                    NaN   \n",
       "1       THEFT BY SHOPLIFTING        F        NaN                    NaN   \n",
       "2                        NaN      NaN        NaN                    NaN   \n",
       "3                        NaN      NaN        NaN                    NaN   \n",
       "4       THEFT BY SHOPLIFTING        B  30.298356  (30.298356-97.719647)   \n",
       "...                      ...      ...        ...                    ...   \n",
       "159459        THEFT OF METAL        F  30.207396  (30.207396-97.728709)   \n",
       "159460  THEFT BY SHOPLIFTING        A        NaN                    NaN   \n",
       "159461                   NaN      NaN        NaN                    NaN   \n",
       "159462                   NaN      NaN        NaN                    NaN   \n",
       "159463                 THEFT        H  30.226552  (30.226552-97.741977)   \n",
       "\n",
       "        location_description  longitude              primary_type  \\\n",
       "0         2620 RIO GRANDE ST        NaN                     Theft   \n",
       "1       9500 S IH 35 SVRD SB        NaN                     Theft   \n",
       "2                        NaN        NaN                       NaN   \n",
       "3                        NaN        NaN                       NaN   \n",
       "4             1000 E 41ST ST -97.719647        Theft: Shoplifting   \n",
       "...                      ...        ...                       ...   \n",
       "159459         4000 CAVEN RD -97.728709  Theft: All Other Larceny   \n",
       "159460   10713 JOLLYVILLE RD        NaN                     Theft   \n",
       "159461                   NaN        NaN                       NaN   \n",
       "159462                   NaN        NaN                       NaN   \n",
       "159463  1712 TIMBER RIDGE DR -97.741977  Theft: All Other Larceny   \n",
       "\n",
       "                  timestamp    unique_key  x_coordinate  y_coordinate    year  \\\n",
       "0       2015-12-13 00:00:00  2.015505e+10     3113531.0    10079579.0  2015.0   \n",
       "1       2015-09-03 00:00:00  2.015246e+10     3099459.0    10032098.0  2015.0   \n",
       "2                       NaN           NaN           NaN           NaN     NaN   \n",
       "3                       NaN           NaN           NaN           NaN     NaN   \n",
       "4       2014-04-04 00:00:00  2.014941e+09     3121345.0    10082705.0  2014.0   \n",
       "...                     ...           ...           ...           ...     ...   \n",
       "159459  2014-06-03 00:00:00  2.014502e+10     3119195.0    10048844.0  2014.0   \n",
       "159460  2015-12-30 00:00:00  2.015506e+10     3111397.0    10118845.0  2015.0   \n",
       "159461                  NaN           NaN           NaN           NaN     NaN   \n",
       "159462                  NaN           NaN           NaN           NaN     NaN   \n",
       "159463  2014-06-30 00:00:00  2.014503e+10     3114890.0    10055706.0  2014.0   \n",
       "\n",
       "        zipcode  \n",
       "0       78705.0  \n",
       "1       78748.0  \n",
       "2           NaN  \n",
       "3           NaN  \n",
       "4       78751.0  \n",
       "...         ...  \n",
       "159459  78744.0  \n",
       "159460  78759.0  \n",
       "159461      NaN  \n",
       "159462      NaN  \n",
       "159463  78741.0  \n",
       "\n",
       "[159464 rows x 18 columns]"
      ]
     },
     "execution_count": 3,
     "metadata": {},
     "output_type": "execute_result"
    }
   ],
   "source": [
    "df"
   ]
  },
  {
   "cell_type": "code",
   "execution_count": 4,
   "metadata": {},
   "outputs": [
    {
     "name": "stdout",
     "output_type": "stream",
     "text": [
      "<class 'pandas.core.frame.DataFrame'>\n",
      "RangeIndex: 159464 entries, 0 to 159463\n",
      "Data columns (total 18 columns):\n",
      " #   Column                 Non-Null Count   Dtype  \n",
      "---  ------                 --------------   -----  \n",
      " 0   address                159464 non-null  object \n",
      " 1   census_tract           84528 non-null   object \n",
      " 2   clearance_date         81489 non-null   object \n",
      " 3   clearance_status       81480 non-null   object \n",
      " 4   council_district_code  84456 non-null   float64\n",
      " 5   description            84884 non-null   object \n",
      " 6   district               84871 non-null   object \n",
      " 7   latitude               34500 non-null   float64\n",
      " 8   location               34500 non-null   object \n",
      " 9   location_description   78172 non-null   object \n",
      " 10  longitude              34500 non-null   float64\n",
      " 11  primary_type           79214 non-null   object \n",
      " 12  timestamp              73544 non-null   object \n",
      " 13  unique_key             73544 non-null   float64\n",
      " 14  x_coordinate           72273 non-null   float64\n",
      " 15  y_coordinate           72273 non-null   float64\n",
      " 16  year                   73544 non-null   float64\n",
      " 17  zipcode                73201 non-null   float64\n",
      "dtypes: float64(8), object(10)\n",
      "memory usage: 21.9+ MB\n"
     ]
    }
   ],
   "source": [
    "df.info()"
   ]
  },
  {
   "cell_type": "markdown",
   "metadata": {},
   "source": [
    "## Question\n",
    "1. ลักษณะการเกิดอาชญากรรมต่อพื้นที่\n",
    "2. ความถี่ของอาชญากรรมเมื่ออิงจากสภาพเศษฐกิจ"
   ]
  },
  {
   "cell_type": "code",
   "execution_count": null,
   "metadata": {},
   "outputs": [],
   "source": [
    "latlong = df[pd.notnull(df['latitude'])].loc[pd.notnull(df['longitude'])][['latitude','longitude']]"
   ]
  },
  {
   "cell_type": "code",
   "execution_count": null,
   "metadata": {},
   "outputs": [],
   "source": [
    "latlong"
   ]
  },
  {
   "cell_type": "code",
   "execution_count": null,
   "metadata": {},
   "outputs": [],
   "source": [
    "fig, ax = plt.subplots()\n",
    "ax.scatter(latlong['longitude'].values, latlong['latitude'].values,\n",
    "             s=3, label='map', alpha=0.5)\n",
    "fig.suptitle('Map by Latitude and Longitude')\n",
    "\n",
    "ax.set_ylabel('latitude')\n",
    "ax.set_xlabel('longitude')\n",
    "\n",
    "plt.show()"
   ]
  },
  {
   "cell_type": "markdown",
   "metadata": {},
   "source": [
    "### แบ่งแยกลักษณะการเกิดอาชญากรรม ตามพื้นที่"
   ]
  },
  {
   "cell_type": "code",
   "execution_count": null,
   "metadata": {},
   "outputs": [],
   "source": [
    "df.description.unique()"
   ]
  },
  {
   "cell_type": "code",
   "execution_count": null,
   "metadata": {},
   "outputs": [],
   "source": [
    "df['Type1'] = df.apply(lambda x: 'THEFT' in str(x['description']),axis=1)"
   ]
  },
  {
   "cell_type": "code",
   "execution_count": null,
   "metadata": {},
   "outputs": [],
   "source": [
    "df.loc[df['Type1']].description.unique()"
   ]
  },
  {
   "cell_type": "code",
   "execution_count": null,
   "metadata": {},
   "outputs": [],
   "source": [
    "df['Type2'] = df.apply(lambda x: 'BURG' in str(x['description']),axis=1)"
   ]
  },
  {
   "cell_type": "code",
   "execution_count": null,
   "metadata": {},
   "outputs": [],
   "source": [
    "df.loc[df['Type2']].description.unique()"
   ]
  },
  {
   "cell_type": "code",
   "execution_count": null,
   "metadata": {},
   "outputs": [],
   "source": [
    "df['Type3'] = df.apply(lambda x: 'AGG' in str(x['description']),axis=1)"
   ]
  },
  {
   "cell_type": "code",
   "execution_count": null,
   "metadata": {},
   "outputs": [],
   "source": [
    "df.loc[df['Type3']].description.unique()"
   ]
  },
  {
   "cell_type": "code",
   "execution_count": null,
   "metadata": {},
   "outputs": [],
   "source": [
    "df['Type4'] = df.apply(lambda x: 'MURDER' in str(x['description']),axis=1)"
   ]
  },
  {
   "cell_type": "code",
   "execution_count": null,
   "metadata": {},
   "outputs": [],
   "source": [
    "df.loc[df['Type4']].description.unique()"
   ]
  },
  {
   "cell_type": "code",
   "execution_count": null,
   "metadata": {},
   "outputs": [],
   "source": [
    "df['Type5'] = df.apply(lambda x: 'RAPE' in str(x['description']),axis=1)"
   ]
  },
  {
   "cell_type": "code",
   "execution_count": null,
   "metadata": {},
   "outputs": [],
   "source": [
    "df.loc[df['Type5']].description.unique()"
   ]
  },
  {
   "cell_type": "code",
   "execution_count": null,
   "metadata": {},
   "outputs": [],
   "source": [
    "df['Type6'] = df.apply(lambda x: 'ROB' in str(x['description']),axis=1)"
   ]
  },
  {
   "cell_type": "code",
   "execution_count": null,
   "metadata": {},
   "outputs": [],
   "source": [
    "df.loc[df['Type6']].description.unique()"
   ]
  },
  {
   "cell_type": "code",
   "execution_count": null,
   "metadata": {},
   "outputs": [],
   "source": [
    "df.loc[~df['Type6']].loc[~df['Type5']].loc[~df['Type4']].loc[~df['Type3']].loc[~df['Type2']].loc[~df['Type1']].description.unique()"
   ]
  },
  {
   "cell_type": "code",
   "execution_count": null,
   "metadata": {},
   "outputs": [],
   "source": []
  },
  {
   "cell_type": "code",
   "execution_count": null,
   "metadata": {},
   "outputs": [],
   "source": [
    "df"
   ]
  },
  {
   "cell_type": "code",
   "execution_count": null,
   "metadata": {},
   "outputs": [],
   "source": [
    "df_t1 = df.loc[df['Type1']].reset_index(drop=True)\n",
    "df_t2 = df.loc[df['Type2']].reset_index(drop=True)\n",
    "df_t3 = df.loc[df['Type3']].reset_index(drop=True)\n",
    "df_t4 = df.loc[df['Type4']].reset_index(drop=True)\n",
    "df_t5 = df.loc[df['Type5']].reset_index(drop=True)\n",
    "df_t6 = df.loc[df['Type6']].reset_index(drop=True)\n",
    "df_t7 = df.loc[~df['Type6']].loc[~df['Type5']].loc[~df['Type4']].\\\n",
    "loc[~df['Type3']].loc[~df['Type2']].loc[~df['Type1']].reset_index(drop=True)"
   ]
  },
  {
   "cell_type": "code",
   "execution_count": null,
   "metadata": {
    "scrolled": true
   },
   "outputs": [],
   "source": [
    "df_latlong_t1 = df_t1[pd.notnull(df_t1['longitude'])].loc[pd.notnull(df_t1['latitude'])]\n",
    "df_latlong_t1"
   ]
  },
  {
   "cell_type": "code",
   "execution_count": null,
   "metadata": {
    "scrolled": true
   },
   "outputs": [],
   "source": [
    "district_values = pd.value_counts(df_t1['district'])\n",
    "plots = district_values.plot(kind=\"bar\")\n",
    "_=plt.xlabel('District')\n",
    "_=plt.ylabel('Event')\n",
    "for bar in plots.patches:\n",
    "    plots.annotate(format(bar.get_height(), '.1f'),\n",
    "                   (bar.get_x() + bar.get_width() / 2,\n",
    "                    bar.get_height()), ha='center', va='center',\n",
    "                   size=10, xytext=(0, 8),\n",
    "                   textcoords='offset points')\n",
    "\n",
    "plt.show()"
   ]
  },
  {
   "cell_type": "code",
   "execution_count": null,
   "metadata": {
    "scrolled": true
   },
   "outputs": [],
   "source": [
    "max_theft = df_t1.loc[df_t1['district'] == 'D']\n",
    "fig, ax = plt.subplots()\n",
    "ax.scatter(max_theft['longitude'].values, max_theft['latitude'].values,\n",
    "             s=3, label='map', alpha=0.5)\n",
    "fig.suptitle('Map by Latitude and Longitude')\n",
    "\n",
    "ax.set_ylabel('latitude')\n",
    "ax.set_xlabel('longitude')\n",
    "\n",
    "plt.show()"
   ]
  },
  {
   "cell_type": "code",
   "execution_count": null,
   "metadata": {},
   "outputs": [],
   "source": [
    "df['color1'] = df.apply(lambda x:'red' if x['Type1'] == True and x['district'] == 'D' else 'skyblue',axis=1)"
   ]
  },
  {
   "cell_type": "code",
   "execution_count": null,
   "metadata": {},
   "outputs": [],
   "source": [
    "fig, ax = plt.subplots()\n",
    "ax.scatter(df['longitude'].values, df['latitude'].values,\n",
    "             s=3+ pow(12,df['Type1'].astype('int')), c=df.color1, label='map', alpha=0.5)\n",
    "fig.suptitle('Map by Latitude and Longitude')\n",
    "\n",
    "ax.set_ylabel('latitude')\n",
    "ax.set_xlabel('longitude')\n",
    "\n",
    "plt.show()"
   ]
  },
  {
   "cell_type": "code",
   "execution_count": null,
   "metadata": {
    "scrolled": true
   },
   "outputs": [],
   "source": [
    "district_values =pd.value_counts(df_t2['district'])\n",
    "plots = district_values.plot(kind=\"bar\")\n",
    "_=plt.xlabel('District')\n",
    "_=plt.ylabel('Event')\n",
    "for bar in plots.patches:\n",
    "    plots.annotate(format(bar.get_height(), '.1f'),\n",
    "                   (bar.get_x() + bar.get_width() / 2,\n",
    "                    bar.get_height()), ha='center', va='center',\n",
    "                   size=10, xytext=(0, 8),\n",
    "                   textcoords='offset points')\n",
    "plt.show()"
   ]
  },
  {
   "cell_type": "code",
   "execution_count": null,
   "metadata": {
    "scrolled": true
   },
   "outputs": [],
   "source": [
    "max_burg = df_t2.loc[df_t2['district'] == 'E']\n",
    "fig, ax = plt.subplots()\n",
    "ax.scatter(max_burg['longitude'].values, max_burg['latitude'].values,\n",
    "             s=3, label='map', alpha=0.5)\n",
    "fig.suptitle('Map by Latitude and Longitude')\n",
    "\n",
    "ax.set_ylabel('latitude')\n",
    "ax.set_xlabel('longitude')\n",
    "\n",
    "plt.show()"
   ]
  },
  {
   "cell_type": "code",
   "execution_count": null,
   "metadata": {},
   "outputs": [],
   "source": [
    "df['color2'] = df.apply(lambda x:'red' if x['Type2'] == True and x['district'] == 'E' else 'skyblue',axis=1)"
   ]
  },
  {
   "cell_type": "code",
   "execution_count": null,
   "metadata": {},
   "outputs": [],
   "source": [
    "fig, ax = plt.subplots()\n",
    "ax.scatter(df['longitude'].values, df['latitude'].values,\n",
    "             s=3+ pow(12,df['Type2'].astype('int')), c=df.color2, label='map', alpha=0.5)\n",
    "fig.suptitle('Map by Latitude and Longitude')\n",
    "\n",
    "ax.set_ylabel('latitude')\n",
    "ax.set_xlabel('longitude')\n",
    "\n",
    "plt.show()"
   ]
  },
  {
   "cell_type": "code",
   "execution_count": null,
   "metadata": {
    "scrolled": true
   },
   "outputs": [],
   "source": [
    "district_values =pd.value_counts(df_t3['district'])\n",
    "plots = district_values.plot(kind=\"bar\")\n",
    "_=plt.xlabel('District')\n",
    "_=plt.ylabel('Event')\n",
    "for bar in plots.patches:\n",
    "    plots.annotate(format(bar.get_height(), '.1f'),\n",
    "                   (bar.get_x() + bar.get_width() / 2,\n",
    "                    bar.get_height()), ha='center', va='center',\n",
    "                   size=10, xytext=(0, 8),\n",
    "                   textcoords='offset points')\n",
    "plt.show()"
   ]
  },
  {
   "cell_type": "code",
   "execution_count": null,
   "metadata": {
    "scrolled": true
   },
   "outputs": [],
   "source": [
    "max_agg= df_t3.loc[df_t3['district'] == 'E']\n",
    "fig, ax = plt.subplots()\n",
    "ax.scatter(max_agg['longitude'].values, max_agg['latitude'].values,\n",
    "             s=3, label='map', alpha=0.5)\n",
    "fig.suptitle('Map by Latitude and Longitude')\n",
    "\n",
    "ax.set_ylabel('latitude')\n",
    "ax.set_xlabel('longitude')\n",
    "\n",
    "plt.show()"
   ]
  },
  {
   "cell_type": "code",
   "execution_count": null,
   "metadata": {},
   "outputs": [],
   "source": [
    "df['color3'] = df.apply(lambda x:'red' if x['Type3'] == True and x['district'] == 'E' else 'skyblue',axis=1)"
   ]
  },
  {
   "cell_type": "code",
   "execution_count": null,
   "metadata": {},
   "outputs": [],
   "source": [
    "fig, ax = plt.subplots()\n",
    "ax.scatter(df['longitude'].values, df['latitude'].values,\n",
    "             s=3+ pow(12,df['Type3'].astype('int')), c=df.color3, label='map', alpha=0.5)\n",
    "fig.suptitle('Map by Latitude and Longitude')\n",
    "\n",
    "ax.set_ylabel('latitude')\n",
    "ax.set_xlabel('longitude')\n",
    "\n",
    "plt.show()"
   ]
  },
  {
   "cell_type": "code",
   "execution_count": null,
   "metadata": {},
   "outputs": [],
   "source": [
    "district_values =pd.value_counts(df_t4['district'])\n",
    "plots = district_values.plot(kind=\"bar\")\n",
    "_=plt.xlabel('District')\n",
    "_=plt.ylabel('Event')\n",
    "for bar in plots.patches:\n",
    "    plots.annotate(format(bar.get_height(), '.1f'),\n",
    "                   (bar.get_x() + bar.get_width() / 2,\n",
    "                    bar.get_height()), ha='center', va='center',\n",
    "                   size=10, xytext=(0, 8),\n",
    "                   textcoords='offset points')\n",
    "plt.show()"
   ]
  },
  {
   "cell_type": "code",
   "execution_count": null,
   "metadata": {},
   "outputs": [],
   "source": [
    "max_mur = df_t4.loc[df_t4['district'] == 'E']\n",
    "fig, ax = plt.subplots()\n",
    "ax.scatter(max_agg['longitude'].values, max_agg['latitude'].values,\n",
    "             s=3, label='map', alpha=0.5)\n",
    "fig.suptitle('Map by Latitude and Longitude')\n",
    "\n",
    "ax.set_ylabel('latitude')\n",
    "ax.set_xlabel('longitude')\n",
    "\n",
    "plt.show()"
   ]
  },
  {
   "cell_type": "code",
   "execution_count": null,
   "metadata": {},
   "outputs": [],
   "source": [
    "df.loc[df['Type4']==True].loc[df['district'] == 'E']"
   ]
  },
  {
   "cell_type": "code",
   "execution_count": null,
   "metadata": {},
   "outputs": [],
   "source": [
    "df['color4'] = df.apply(lambda x:'red' if x['Type4'] == True and x['district'] == 'E' else 'skyblue',axis=1)"
   ]
  },
  {
   "cell_type": "code",
   "execution_count": null,
   "metadata": {},
   "outputs": [],
   "source": [
    "fig, ax = plt.subplots()\n",
    "ax.scatter(df['longitude'].values, df['latitude'].values,\n",
    "             s=1+ pow(100,df['Type4'].astype('int')), c=df.color4, label='map', alpha=0.5)\n",
    "fig.suptitle('Map by Latitude and Longitude')\n",
    "\n",
    "ax.set_ylabel('latitude')\n",
    "ax.set_xlabel('longitude')\n",
    "\n",
    "plt.show()"
   ]
  },
  {
   "cell_type": "code",
   "execution_count": null,
   "metadata": {
    "scrolled": true
   },
   "outputs": [],
   "source": [
    "district_values =pd.value_counts(df_t5['district'])\n",
    "plots =district_values.plot(kind=\"bar\")\n",
    "_=plt.xlabel('District')\n",
    "_=plt.ylabel('Event')\n",
    "for bar in plots.patches:\n",
    "    plots.annotate(format(bar.get_height(), '.1f'),\n",
    "                   (bar.get_x() + bar.get_width() / 2,\n",
    "                    bar.get_height()), ha='center', va='center',\n",
    "                   size=10, xytext=(0, 8),\n",
    "                   textcoords='offset points')\n",
    "plt.show()"
   ]
  },
  {
   "cell_type": "code",
   "execution_count": null,
   "metadata": {},
   "outputs": [],
   "source": [
    "max_rape = df_t5.loc[df_t5['district'] == 'E']\n",
    "fig, ax = plt.subplots()\n",
    "ax.scatter(max_agg['longitude'].values, max_agg['latitude'].values,\n",
    "             s=3, label='map', alpha=0.5)\n",
    "fig.suptitle('Map by Latitude and Longitude')\n",
    "\n",
    "ax.set_ylabel('latitude')\n",
    "ax.set_xlabel('longitude')\n",
    "\n",
    "plt.show()"
   ]
  },
  {
   "cell_type": "code",
   "execution_count": null,
   "metadata": {},
   "outputs": [],
   "source": [
    "df['color5'] = df.apply(lambda x:'red' if x['Type5'] == True and x['district'] == 'E' else 'skyblue',axis=1)"
   ]
  },
  {
   "cell_type": "code",
   "execution_count": null,
   "metadata": {},
   "outputs": [],
   "source": [
    "fig, ax = plt.subplots()\n",
    "ax.scatter(df['longitude'].values, df['latitude'].values,\n",
    "             s=1+ pow(30,df['Type5'].astype('int')), c=df.color5, label='map', alpha=0.5)\n",
    "fig.suptitle('Map by Latitude and Longitude')\n",
    "\n",
    "ax.set_ylabel('latitude')\n",
    "ax.set_xlabel('longitude')\n",
    "\n",
    "plt.show()"
   ]
  },
  {
   "cell_type": "code",
   "execution_count": null,
   "metadata": {},
   "outputs": [],
   "source": [
    "district_values =pd.value_counts(df_t6['district'])\n",
    "plots = district_values.plot(kind=\"bar\")\n",
    "_=plt.xlabel('District')\n",
    "_=plt.ylabel('Event')\n",
    "for bar in plots.patches:\n",
    "    plots.annotate(format(bar.get_height(), '.1f'),\n",
    "                   (bar.get_x() + bar.get_width() / 2,\n",
    "                    bar.get_height()), ha='center', va='center',\n",
    "                   size=10, xytext=(0, 8),\n",
    "                   textcoords='offset points')\n",
    "plt.show()"
   ]
  },
  {
   "cell_type": "code",
   "execution_count": null,
   "metadata": {},
   "outputs": [],
   "source": [
    "max_rob = df_t6.loc[df_t6['district'] == 'E']\n",
    "fig, ax = plt.subplots()\n",
    "ax.scatter(max_agg['longitude'].values, max_agg['latitude'].values,\n",
    "             s=3, label='map', alpha=0.5)\n",
    "fig.suptitle('Map by Latitude and Longitude')\n",
    "\n",
    "ax.set_ylabel('latitude')\n",
    "ax.set_xlabel('longitude')\n",
    "\n",
    "plt.show()"
   ]
  },
  {
   "cell_type": "code",
   "execution_count": null,
   "metadata": {},
   "outputs": [],
   "source": [
    "df['color6'] = df.apply(lambda x:'red' if x['Type6'] == True and x['district'] == 'E' else 'skyblue',axis=1)"
   ]
  },
  {
   "cell_type": "code",
   "execution_count": null,
   "metadata": {},
   "outputs": [],
   "source": [
    "fig, ax = plt.subplots()\n",
    "ax.scatter(df['longitude'].values, df['latitude'].values,\n",
    "             s=3+ pow(30,df['Type6'].astype('int')), c=df.color6, label='map', alpha=0.5)\n",
    "fig.suptitle('Map by Latitude and Longitude')\n",
    "\n",
    "ax.set_ylabel('latitude')\n",
    "ax.set_xlabel('longitude')\n",
    "\n",
    "plt.show()"
   ]
  },
  {
   "cell_type": "code",
   "execution_count": null,
   "metadata": {},
   "outputs": [],
   "source": []
  },
  {
   "cell_type": "code",
   "execution_count": null,
   "metadata": {},
   "outputs": [],
   "source": []
  },
  {
   "cell_type": "code",
   "execution_count": null,
   "metadata": {},
   "outputs": [],
   "source": [
    "df['clearance_date'] = pd.to_datetime(df['clearance_date'],errors='coerce')"
   ]
  },
  {
   "cell_type": "code",
   "execution_count": null,
   "metadata": {},
   "outputs": [],
   "source": [
    "df_2014= df[pd.notnull(df['clearance_date'])].loc[df.clearance_date.dt.year == 2014]"
   ]
  },
  {
   "cell_type": "code",
   "execution_count": null,
   "metadata": {},
   "outputs": [],
   "source": [
    "df_2015= df[pd.notnull(df['clearance_date'])].loc[df.clearance_date.dt.year == 2015]"
   ]
  },
  {
   "cell_type": "code",
   "execution_count": null,
   "metadata": {},
   "outputs": [],
   "source": [
    "df_2016= df[pd.notnull(df['clearance_date'])].loc[df.clearance_date.dt.year == 2016]"
   ]
  },
  {
   "cell_type": "code",
   "execution_count": null,
   "metadata": {},
   "outputs": [],
   "source": [
    "df[pd.notnull(df['clearance_date'])].loc[df.clearance_date.dt.year == 2017]"
   ]
  },
  {
   "cell_type": "markdown",
   "metadata": {},
   "source": [
    "U.S. Bureau of Economic Analysis, Gross Domestic Product: All Industry Total in Texas [TXNGSP], retrieved from FRED, Federal Reserve Bank of St. Louis; https://fred.stlouisfed.org/series/TXNGSP, October 13, 2022."
   ]
  },
  {
   "cell_type": "code",
   "execution_count": null,
   "metadata": {},
   "outputs": [],
   "source": [
    "gdp = pd.read_csv('TXNGSP.csv')\n",
    "gdp"
   ]
  },
  {
   "cell_type": "code",
   "execution_count": null,
   "metadata": {},
   "outputs": [],
   "source": [
    "gdp['DATE'] = pd.to_datetime(gdp['DATE'] )"
   ]
  },
  {
   "cell_type": "code",
   "execution_count": null,
   "metadata": {},
   "outputs": [],
   "source": [
    "scope = gdp[gdp['DATE'].dt.year > 2013].loc[gdp['DATE'].dt.year < 2017].reset_index(drop=True)"
   ]
  },
  {
   "cell_type": "code",
   "execution_count": null,
   "metadata": {},
   "outputs": [],
   "source": [
    "num_2014=  df_2014.loc[pd.notnull(df_2014['description'])].drop_duplicates().description.count()\n",
    "num_2015=  df_2015.loc[pd.notnull(df_2015['description'])].drop_duplicates().description.count()\n",
    "num_2016=  df_2016.loc[pd.notnull(df_2016['description'])].drop_duplicates().description.count()"
   ]
  },
  {
   "cell_type": "code",
   "execution_count": null,
   "metadata": {},
   "outputs": [],
   "source": [
    "scope['CRIME_SUM'] = [num_2014,num_2015,num_2016]"
   ]
  },
  {
   "cell_type": "code",
   "execution_count": null,
   "metadata": {},
   "outputs": [],
   "source": [
    "scope"
   ]
  },
  {
   "cell_type": "code",
   "execution_count": null,
   "metadata": {
    "scrolled": true
   },
   "outputs": [],
   "source": [
    "gdp.plot(x='DATE',y='TXNGSP')\n",
    "plt.suptitle('Gross Domestic Product: All Industry Total in Texas FROM 1997 - 2021')\n",
    "_=plt.xlabel('Year')\n",
    "_=plt.ylabel('TXNGSP')\n",
    "\n",
    "plt.show()\n"
   ]
  },
  {
   "cell_type": "code",
   "execution_count": null,
   "metadata": {},
   "outputs": [],
   "source": [
    "scope.plot(x=\"DATE\", y=\"CRIME_SUM\")\n",
    "plt.suptitle('ALL CRIME IN TEXAS,Austin FROM 2014 - 2016')\n",
    "_=plt.xlabel('Year')\n",
    "_=plt.ylabel('Sum of Crime')\n",
    "plt.show()"
   ]
  },
  {
   "cell_type": "code",
   "execution_count": null,
   "metadata": {},
   "outputs": [],
   "source": []
  }
 ],
 "metadata": {
  "kernelspec": {
   "display_name": "Python 3",
   "language": "python",
   "name": "python3"
  },
  "language_info": {
   "codemirror_mode": {
    "name": "ipython",
    "version": 3
   },
   "file_extension": ".py",
   "mimetype": "text/x-python",
   "name": "python",
   "nbconvert_exporter": "python",
   "pygments_lexer": "ipython3",
   "version": "3.8.3"
  }
 },
 "nbformat": 4,
 "nbformat_minor": 4
}
